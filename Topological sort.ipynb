{
  "nbformat": 4,
  "nbformat_minor": 0,
  "metadata": {
    "colab": {
      "provenance": [],
      "authorship_tag": "ABX9TyMYH3vJ4fkisZD5T3HSq91S",
      "include_colab_link": true
    },
    "kernelspec": {
      "name": "python3",
      "display_name": "Python 3"
    },
    "language_info": {
      "name": "python"
    }
  },
  "cells": [
    {
      "cell_type": "markdown",
      "metadata": {
        "id": "view-in-github",
        "colab_type": "text"
      },
      "source": [
        "<a href=\"https://colab.research.google.com/github/AbhishekKurra/Hands-on-14/blob/main/Topological%20sort.ipynb\" target=\"_parent\"><img src=\"https://colab.research.google.com/assets/colab-badge.svg\" alt=\"Open In Colab\"/></a>"
      ]
    },
    {
      "cell_type": "code",
      "execution_count": 7,
      "metadata": {
        "id": "xQA-ZUSVZdjJ"
      },
      "outputs": [],
      "source": [
        "def test_topological_sort():\n",
        "    from collections import defaultdict\n",
        "\n",
        "    class Graph:\n",
        "        def _init_(self, vertices):\n",
        "            self.graph = defaultdict(list)\n",
        "            self.vertices = vertices\n",
        "\n",
        "        def add_edge(self, u, v):\n",
        "            self.graph[u].append(v)\n",
        "\n",
        "        def topological_sort_util(self, v, visited, stack):\n",
        "            visited[v] = True\n",
        "            for neighbor in self.graph[v]:\n",
        "                if not visited[neighbor]:\n",
        "                    self.topological_sort_util(neighbor, visited, stack)\n",
        "            stack.append(v)\n",
        "\n",
        "        def topological_sort(self):\n",
        "            # Ensure all vertices are included in the visited dictionary\n",
        "            visited = {v: False for v in self.vertices}\n",
        "            stack = []\n",
        "            for vertex in self.vertices:  # Iterate over all vertices\n",
        "                if not visited[vertex]:\n",
        "                    self.topological_sort_util(vertex, visited, stack)\n",
        "            return stack[::-1]\n",
        "\n",
        "    g = Graph([\"s\", \"t\", \"x\", \"z\", \"y\", \"w\", \"v\", \"u\"])\n",
        "    g.add_edge(\"s\", \"t\")\n",
        "    g.add_edge(\"s\", \"w\")\n",
        "    g.add_edge(\"t\", \"x\")\n",
        "    g.add_edge(\"x\", \"z\")\n",
        "    g.add_edge(\"x\", \"y\")\n",
        "    g.add_edge(\"z\", \"u\")\n",
        "    g.add_edge(\"w\", \"t\")\n",
        "    g.add_edge(\"w\", \"x\")\n",
        "    g.add_edge(\"y\", \"z\")\n",
        "\n",
        "    print(\"Topological Sort Result (CLRS Figure 22.8):\")\n",
        "    print(g.topological_sort())"
      ]
    }
  ]
}