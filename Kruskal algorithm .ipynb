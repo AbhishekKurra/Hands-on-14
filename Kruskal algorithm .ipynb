{
  "nbformat": 4,
  "nbformat_minor": 0,
  "metadata": {
    "colab": {
      "provenance": [],
      "authorship_tag": "ABX9TyNG7oOG71mMyeXlfCQjRl05",
      "include_colab_link": true
    },
    "kernelspec": {
      "name": "python3",
      "display_name": "Python 3"
    },
    "language_info": {
      "name": "python"
    }
  },
  "cells": [
    {
      "cell_type": "markdown",
      "metadata": {
        "id": "view-in-github",
        "colab_type": "text"
      },
      "source": [
        "<a href=\"https://colab.research.google.com/github/AbhishekKurra/Hands-on-14/blob/main/Kruskal%20algorithm%20.ipynb\" target=\"_parent\"><img src=\"https://colab.research.google.com/assets/colab-badge.svg\" alt=\"Open In Colab\"/></a>"
      ]
    },
    {
      "cell_type": "code",
      "execution_count": 16,
      "metadata": {
        "id": "xQA-ZUSVZdjJ"
      },
      "outputs": [],
      "source": [
        "def test_kruskal():\n",
        "    class Graph:\n",
        "        def _init_(self, vertices):\n",
        "            self.vertices = vertices\n",
        "            self.edges = []\n",
        "\n",
        "        def add_edge(self, u, v, weight):\n",
        "            self.edges.append((weight, u, v))\n",
        "\n",
        "        def find_parent(self, parent, vertex):\n",
        "            if parent[vertex] != vertex:\n",
        "                parent[vertex] = self.find_parent(parent, parent[vertex])\n",
        "            return parent[vertex]\n",
        "\n",
        "        def union(self, parent, rank, x, y):\n",
        "            root_x = self.find_parent(parent, x)\n",
        "            root_y = self.find_parent(parent, y)\n",
        "            if rank[root_x] < rank[root_y]:\n",
        "                parent[root_x] = root_y\n",
        "            elif rank[root_x] > rank[root_y]:\n",
        "                parent[root_y] = root_x\n",
        "            else:\n",
        "                parent[root_y] = root_x\n",
        "                rank[root_x] += 1\n",
        "\n",
        "        def kruskal_mst(self):\n",
        "            self.edges.sort()\n",
        "            parent = {v: v for v in self.vertices}\n",
        "            rank = {v: 0 for v in self.vertices}\n",
        "            mst = []\n",
        "\n",
        "            for weight, u, v in self.edges:\n",
        "                root_u = self.find_parent(parent, u)\n",
        "                root_v = self.find_parent(parent, v)\n",
        "                if root_u != root_v:\n",
        "                    mst.append((u, v, weight))\n",
        "                    self.union(parent, rank, root_u, root_v)\n",
        "\n",
        "            return mst\n",
        "\n",
        "    vertices = [\"a\", \"b\", \"c\", \"d\", \"e\", \"f\", \"g\", \"h\", \"i\"]\n",
        "    g = Graph(vertices)\n",
        "    g.add_edge(\"a\", \"b\", 4)\n",
        "    g.add_edge(\"a\", \"h\", 8)\n",
        "    g.add_edge(\"b\", \"h\", 11)\n",
        "    g.add_edge(\"b\", \"c\", 8)\n",
        "    g.add_edge(\"c\", \"d\", 7)\n",
        "    g.add_edge(\"c\", \"f\", 4)\n",
        "    g.add_edge(\"c\", \"i\", 2)\n",
        "    g.add_edge(\"d\", \"e\", 9)\n",
        "    g.add_edge(\"d\", \"f\", 14)\n",
        "    g.add_edge(\"e\", \"f\", 10)\n",
        "    g.add_edge(\"f\", \"g\", 2)\n",
        "    g.add_edge(\"g\", \"h\", 1)\n",
        "    g.add_edge(\"g\", \"i\", 6)\n",
        "    g.add_edge(\"h\", \"i\", 7)\n",
        "\n",
        "    print(\"Kruskal's MST Result (CLRS Figure 23.4):\")\n",
        "    mst = g.kruskal_mst()\n",
        "    for u, v, weight in mst:\n",
        "        print(f\"{u} -- {v} == {weight}\")\n",
        "\n"
      ]
    }
  ]
}