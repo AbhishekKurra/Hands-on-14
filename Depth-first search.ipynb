{
  "nbformat": 4,
  "nbformat_minor": 0,
  "metadata": {
    "colab": {
      "provenance": [],
      "authorship_tag": "ABX9TyMO/hiZyApGI2YhgX9i7ZGk",
      "include_colab_link": true
    },
    "kernelspec": {
      "name": "python3",
      "display_name": "Python 3"
    },
    "language_info": {
      "name": "python"
    }
  },
  "cells": [
    {
      "cell_type": "markdown",
      "metadata": {
        "id": "view-in-github",
        "colab_type": "text"
      },
      "source": [
        "<a href=\"https://colab.research.google.com/github/AbhishekKurra/Hands-on-14/blob/main/Depth-first%20search.ipynb\" target=\"_parent\"><img src=\"https://colab.research.google.com/assets/colab-badge.svg\" alt=\"Open In Colab\"/></a>"
      ]
    },
    {
      "cell_type": "code",
      "execution_count": 8,
      "metadata": {
        "id": "xQA-ZUSVZdjJ"
      },
      "outputs": [],
      "source": [
        "def test_dfs():\n",
        "    from collections import defaultdict\n",
        "\n",
        "    class Graph:\n",
        "        def _init_(self, vertices):\n",
        "            self.graph = defaultdict(list)\n",
        "            self.vertices = vertices\n",
        "\n",
        "        def add_edge(self, u, v):\n",
        "            self.graph[u].append(v)\n",
        "            self.graph[v].append(u)  # Undirected graph\n",
        "\n",
        "        def dfs_util(self, v, visited):\n",
        "            visited[v] = True\n",
        "            print(f\"{v} \", end=\"\")  # Ensure compatibility with older Python versions\n",
        "            for neighbor in self.graph[v]:\n",
        "                if not visited[neighbor]:\n",
        "                    self.dfs_util(neighbor, visited)\n",
        "\n",
        "        def dfs(self, start_vertex):\n",
        "            visited = {v: False for v in self.graph}\n",
        "            self.dfs_util(start_vertex, visited)\n",
        "\n",
        "    g = Graph(6)\n",
        "    g.add_edge(\"u\", \"v\")\n",
        "    g.add_edge(\"u\", \"x\")\n",
        "    g.add_edge(\"x\", \"v\")\n",
        "    g.add_edge(\"v\", \"y\")\n",
        "    g.add_edge(\"w\", \"y\")\n",
        "    g.add_edge(\"w\", \"z\")\n",
        "    g.add_edge(\"z\", \"y\")\n",
        "\n",
        "    print(\"DFS Traversal Result (CLRS Figure 22.3):\")\n",
        "    g.dfs(\"u\")"
      ]
    }
  ]
}